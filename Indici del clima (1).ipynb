{
 "cells": [
  {
   "cell_type": "markdown",
   "id": "687e7bbc",
   "metadata": {},
   "source": [
    "# Ondate di calore\n"
   ]
  },
  {
   "cell_type": "code",
   "execution_count": 15,
   "id": "6c92ce3c",
   "metadata": {},
   "outputs": [],
   "source": [
    "#importiamo la libreria e leggiamo lo spreadsheet\n",
    "import pandas as pd\n",
    "df=pd.read_csv(\"/Users/macssd/Downloads/sole24h/Caltanissetta.csv\", sep='\\;', encoding = 'unicode_escape', engine ='python')"
   ]
  },
  {
   "cell_type": "code",
   "execution_count": 8,
   "id": "a93e500f",
   "metadata": {},
   "outputs": [
    {
     "data": {
      "text/plain": [
       "Index(['data', 'ora', 'qn', 'zt', 'img', 'desc', 'desc_lng', 'mimg', 'mdesc',\n",
       "       'mdesc_lng', 'ore_sole', 'ventoint', 'ventodir', 'temperatura',\n",
       "       'temperatura_percepita', 'precipitazioni', 'accumulo', 'neve',\n",
       "       'probabilita_prec', 'ma', 'ao', 'hr', 'pr', 'uv', 'copertura',\n",
       "       'mcopertura', 'descrizione_uv', 'aggiornamento', 'dataestesa',\n",
       "       'dataestesa_small'],\n",
       "      dtype='object')"
      ]
     },
     "execution_count": 8,
     "metadata": {},
     "output_type": "execute_result"
    }
   ],
   "source": [
    "df.columns"
   ]
  },
  {
   "cell_type": "code",
   "execution_count": 11,
   "id": "e2e5ceef",
   "metadata": {},
   "outputs": [],
   "source": [
    "def ondatedicalore(x):\n",
    "    x=x[(x.ora==12)].temperatura\n",
    "    x = x.reset_index(drop=True)\n",
    "    y=1\n",
    "    tot=0\n",
    "    while y<len(x):\n",
    "        if x.iloc[y]>=30 and x.iloc[y+1]>=30 and x.iloc[y+2] >= 30 and x.iloc[y-1]<30:\n",
    "            tot=tot+1\n",
    "            y=y+1\n",
    "        else:\n",
    "            y=y+1\n",
    "    print(f'Le ondate di calore in questo decennio sono state {tot}')"
   ]
  },
  {
   "cell_type": "code",
   "execution_count": 12,
   "id": "3084f030",
   "metadata": {},
   "outputs": [
    {
     "name": "stdout",
     "output_type": "stream",
     "text": [
      "Le ondate di calore in questo decennio sono state 69\n"
     ]
    }
   ],
   "source": [
    "ondatedicalore(df)"
   ]
  },
  {
   "cell_type": "code",
   "execution_count": 24,
   "id": "7a868a9f",
   "metadata": {},
   "outputs": [
    {
     "ename": "NameError",
     "evalue": "name 'tot' is not defined",
     "output_type": "error",
     "traceback": [
      "\u001b[0;31m---------------------------------------------------------------------------\u001b[0m",
      "\u001b[0;31mNameError\u001b[0m                                 Traceback (most recent call last)",
      "Input \u001b[0;32mIn [24]\u001b[0m, in \u001b[0;36m<cell line: 1>\u001b[0;34m()\u001b[0m\n\u001b[0;32m----> 1\u001b[0m \u001b[43mtot\u001b[49m\n",
      "\u001b[0;31mNameError\u001b[0m: name 'tot' is not defined"
     ]
    }
   ],
   "source": [
    "tot"
   ]
  },
  {
   "cell_type": "code",
   "execution_count": 2,
   "id": "51ba2111",
   "metadata": {},
   "outputs": [],
   "source": [
    "listaprovince=[\"Verbania\",\"Trani\",\"Terni\",\"Teramo\",\"Sondrio\",\"Ragusa\",\"Padova\",\"Oristano\",\"Nuoro\",\"Monza\",\"Massa\",\"Lodi\",\"L'Aquila\",\"Caltanissetta\",\"Forlç\",\"Fermo\",\"Carbonia\",\"Cesena\",\"Carrara\",\"Caserta\",\"Biella\",\"Agrigento\", \"Alessandria\",\"Andria\", \"Aosta\", \"Ascoli piceno\",\"Asti\",\"Avellino\",\"Barletta\",\"Belluno\",\"Chieti\",\"Benevento\", \"Pescara\", \"Matera\", \"Potenza\", \"Catanzaro\", \"Cosenza\", \"Crotone\", \"Reggio Calabria\", \"Vibo Valentia\", \"Napoli\", \"Salerno\", \"Bologna\", \"Ferrara\", \"Modena\", \"Parma\", \"Piacenza\", \"Ravenna\", \"Reggio Emilia\", \"Rimini\", \"Gorizia\", \"Pordenone\", \"Trieste\", \"Udine\", \"Frosinone\", \"Latina\", \"Rieti\", \"Roma\", \"Viterbo\", \"Genova\", \"Imperia\", \"Isernia\", \"La Spezia\", \"Savona\", \"Bergamo\", \"Brescia\", \"Como\", \"Cremona\", \"Lecco\",  \"Mantova\", \"Milano\", \"Pavia\", \"Varese\", \"Ancona\", \"Macerata\", \"Pesaro\",\"Urbino\", \"Campobasso\", \"Cuneo\", \"Novara\", \"Torino\",\"Vercelli\", \"Bari\", \"Brindisi\", \"Foggia\", \"Lecce\", \"Taranto\", \"Cagliari\", \"Sassari\", \"Catania\", \"Enna\", \"Messina\", \"Palermo\", \"Siracusa\", \"Trapani\", \n",
    "\"Arezzo\",\"Firenze\",\"Grosseto\",\"Livorno\",\"Lucca\", \"Pisa\", \"Pistoia\", \"Prato\", \"Siena\", \"Bolzano\", \"Trento\", \"Perugia\",\"Rovigo\", \"Treviso\", \"Venezia\", \"Verona\", \"Vicenza\"]"
   ]
  },
  {
   "cell_type": "code",
   "execution_count": 3,
   "id": "5f8ac6db",
   "metadata": {},
   "outputs": [
    {
     "data": {
      "text/plain": [
       "112"
      ]
     },
     "execution_count": 3,
     "metadata": {},
     "output_type": "execute_result"
    }
   ],
   "source": [
    "len(listaprovince)"
   ]
  },
  {
   "cell_type": "code",
   "execution_count": 4,
   "id": "a1b0cb0c",
   "metadata": {},
   "outputs": [
    {
     "data": {
      "text/plain": [
       "['Verbania',\n",
       " 'Trani',\n",
       " 'Terni',\n",
       " 'Teramo',\n",
       " 'Sondrio',\n",
       " 'Ragusa',\n",
       " 'Padova',\n",
       " 'Oristano',\n",
       " 'Nuoro',\n",
       " 'Monza',\n",
       " 'Massa',\n",
       " 'Lodi',\n",
       " \"L'Aquila\",\n",
       " 'Caltanissetta',\n",
       " 'Forlç',\n",
       " 'Fermo',\n",
       " 'Carbonia',\n",
       " 'Cesena',\n",
       " 'Carrara',\n",
       " 'Caserta',\n",
       " 'Biella',\n",
       " 'Agrigento',\n",
       " 'Alessandria',\n",
       " 'Andria',\n",
       " 'Aosta',\n",
       " 'Ascoli piceno',\n",
       " 'Asti',\n",
       " 'Avellino',\n",
       " 'Barletta',\n",
       " 'Belluno',\n",
       " 'Chieti',\n",
       " 'Benevento',\n",
       " 'Pescara',\n",
       " 'Matera',\n",
       " 'Potenza',\n",
       " 'Catanzaro',\n",
       " 'Cosenza',\n",
       " 'Crotone',\n",
       " 'Reggio Calabria',\n",
       " 'Vibo Valentia',\n",
       " 'Napoli',\n",
       " 'Salerno',\n",
       " 'Bologna',\n",
       " 'Ferrara',\n",
       " 'Modena',\n",
       " 'Parma',\n",
       " 'Piacenza',\n",
       " 'Ravenna',\n",
       " 'Reggio Emilia',\n",
       " 'Rimini',\n",
       " 'Gorizia',\n",
       " 'Pordenone',\n",
       " 'Trieste',\n",
       " 'Udine',\n",
       " 'Frosinone',\n",
       " 'Latina',\n",
       " 'Rieti',\n",
       " 'Roma',\n",
       " 'Viterbo',\n",
       " 'Genova',\n",
       " 'Imperia',\n",
       " 'Isernia',\n",
       " 'La Spezia',\n",
       " 'Savona',\n",
       " 'Bergamo',\n",
       " 'Brescia',\n",
       " 'Como',\n",
       " 'Cremona',\n",
       " 'Lecco',\n",
       " 'Mantova',\n",
       " 'Milano',\n",
       " 'Pavia',\n",
       " 'Varese',\n",
       " 'Ancona',\n",
       " 'Macerata',\n",
       " 'Pesaro',\n",
       " 'Urbino',\n",
       " 'Campobasso',\n",
       " 'Cuneo',\n",
       " 'Novara',\n",
       " 'Torino',\n",
       " 'Vercelli',\n",
       " 'Bari',\n",
       " 'Brindisi',\n",
       " 'Foggia',\n",
       " 'Lecce',\n",
       " 'Taranto',\n",
       " 'Cagliari',\n",
       " 'Sassari',\n",
       " 'Catania',\n",
       " 'Enna',\n",
       " 'Messina',\n",
       " 'Palermo',\n",
       " 'Siracusa',\n",
       " 'Trapani',\n",
       " 'Arezzo',\n",
       " 'Firenze',\n",
       " 'Grosseto',\n",
       " 'Livorno',\n",
       " 'Lucca',\n",
       " 'Pisa',\n",
       " 'Pistoia',\n",
       " 'Prato',\n",
       " 'Siena',\n",
       " 'Bolzano',\n",
       " 'Trento',\n",
       " 'Perugia',\n",
       " 'Rovigo',\n",
       " 'Treviso',\n",
       " 'Venezia',\n",
       " 'Verona',\n",
       " 'Vicenza']"
      ]
     },
     "execution_count": 4,
     "metadata": {},
     "output_type": "execute_result"
    }
   ],
   "source": [
    "listaprovince"
   ]
  },
  {
   "cell_type": "code",
   "execution_count": 22,
   "id": "eb406b32",
   "metadata": {},
   "outputs": [
    {
     "name": "stdout",
     "output_type": "stream",
     "text": [
      "Verbania\n",
      "Trani\n",
      "Terni\n",
      "Teramo\n",
      "Sondrio\n",
      "Ragusa\n",
      "Padova\n",
      "Oristano\n",
      "Nuoro\n",
      "Monza\n",
      "Massa\n",
      "Lodi\n",
      "L'Aquila\n",
      "Caltannissetta\n",
      "Forlç\n",
      "Fermo\n",
      "Carbonia\n",
      "Cesena\n",
      "Carrara\n",
      "Caserta\n",
      "Biella\n",
      "Agrigento\n",
      "Alessandria\n",
      "Andria\n",
      "Aosta\n",
      "Ascoli piceno\n",
      "Asti\n",
      "Avellino\n",
      "Barletta\n",
      "Belluno\n",
      "Chieti\n",
      "Benevento\n",
      "Pescara\n",
      "Matera\n",
      "Potenza\n",
      "Catanzaro\n",
      "Cosenza\n",
      "Crotone\n",
      "Reggio Calabria\n",
      "Vibo Valentia\n",
      "Napoli\n",
      "Salerno\n",
      "Bologna\n",
      "Ferrara\n",
      "Modena\n",
      "Parma\n",
      "Piacenza\n",
      "Ravenna\n",
      "Reggio Emilia\n",
      "Rimini\n",
      "Gorizia\n",
      "Pordenone\n",
      "Trieste\n",
      "Udine\n",
      "Frosinone\n",
      "Latina\n",
      "Rieti\n",
      "Roma\n",
      "Viterbo\n",
      "Genova\n",
      "Imperia\n",
      "Isernia\n",
      "La Spezia\n",
      "Savona\n",
      "Bergamo\n",
      "Brescia\n",
      "Como\n",
      "Cremona\n",
      "Lecco\n",
      "Mantova\n",
      "Milano\n",
      "Pavia\n",
      "Varese\n",
      "Ancona\n",
      "Macerata\n",
      "Pesaro\n",
      "Urbino\n",
      "Campobasso\n",
      "Cuneo\n",
      "Novara\n",
      "Torino\n",
      "Vercelli\n",
      "Bari\n",
      "Brindisi\n",
      "Foggia\n",
      "Lecce\n",
      "Taranto\n",
      "Cagliari\n",
      "Sassari\n",
      "Catania\n",
      "Enna\n",
      "Messina\n",
      "Palermo\n",
      "Siracusa\n",
      "Trapani\n",
      "Arezzo\n",
      "Firenze\n",
      "Grosseto\n",
      "Livorno\n",
      "Lucca\n",
      "Pisa\n",
      "Pistoia\n",
      "Prato\n",
      "Siena\n",
      "Bolzano\n",
      "Trento\n",
      "Perugia\n",
      "Rovigo\n",
      "Treviso\n",
      "Venezia\n",
      "Verona\n",
      "Vicenza\n"
     ]
    }
   ],
   "source": [
    "for x in listaprovince: \n",
    "    print(x)"
   ]
  },
  {
   "cell_type": "code",
   "execution_count": 27,
   "id": "7e0fdca5",
   "metadata": {},
   "outputs": [],
   "source": [
    "dati=[]"
   ]
  },
  {
   "cell_type": "code",
   "execution_count": 30,
   "id": "ed801623",
   "metadata": {},
   "outputs": [],
   "source": [
    "for x in listaprovince:\n",
    "    df=pd.read_csv(f'/Users/macssd/Downloads/sole24h/{x}.csv', sep='\\;', encoding = 'unicode_escape', engine ='python')\n",
    "    #subset, selezionando la fascia oraria più calda: quella di mezzogiorno\n",
    "    df=df[(df.ora==12)].temperatura\n",
    "    df = df.reset_index(drop=True)\n",
    "    y=1\n",
    "    tot=0\n",
    "    #loop nel quale si verificano due cose: \n",
    "    #In primo luogo, che ci siano almeno tre giorni di fila consecutivi con >= 30 gradi e che il precedente al primo sia inferiore ai 30\n",
    "    #In questo modo non considera come più ondate di calore, quelle che durano anche più di tre giorni\n",
    "    while y<len(df):\n",
    "        if df.iloc[y]>=30 and df.iloc[y+1]>=30 and df.iloc[y+2] >= 30 and df.iloc[y-1]<30:\n",
    "            tot=tot+1\n",
    "            y=y+1\n",
    "        else:\n",
    "            y=y+1\n",
    "    dati.append(tot)"
   ]
  },
  {
   "cell_type": "code",
   "execution_count": 31,
   "id": "69eb4f6d",
   "metadata": {},
   "outputs": [
    {
     "data": {
      "text/plain": [
       "[63,\n",
       " 62,\n",
       " 69,\n",
       " 75,\n",
       " 67,\n",
       " 60,\n",
       " 80,\n",
       " 79,\n",
       " 73,\n",
       " 74,\n",
       " 63,\n",
       " 74,\n",
       " 63,\n",
       " 69,\n",
       " 74,\n",
       " 73,\n",
       " 76,\n",
       " 75,\n",
       " 50,\n",
       " 64,\n",
       " 47,\n",
       " 66,\n",
       " 79,\n",
       " 65,\n",
       " 72,\n",
       " 78,\n",
       " 79,\n",
       " 58,\n",
       " 64,\n",
       " 43,\n",
       " 61,\n",
       " 70,\n",
       " 30,\n",
       " 65,\n",
       " 63,\n",
       " 72,\n",
       " 69,\n",
       " 61,\n",
       " 66,\n",
       " 62,\n",
       " 58,\n",
       " 51,\n",
       " 75,\n",
       " 77,\n",
       " 72,\n",
       " 75,\n",
       " 74,\n",
       " 74,\n",
       " 72,\n",
       " 39,\n",
       " 77,\n",
       " 75,\n",
       " 38,\n",
       " 75,\n",
       " 62,\n",
       " 50,\n",
       " 60,\n",
       " 60,\n",
       " 66,\n",
       " 20,\n",
       " 20,\n",
       " 61,\n",
       " 64,\n",
       " 21,\n",
       " 76,\n",
       " 76,\n",
       " 67,\n",
       " 74,\n",
       " 49,\n",
       " 77,\n",
       " 72,\n",
       " 74,\n",
       " 42,\n",
       " 40,\n",
       " 74,\n",
       " 30,\n",
       " 59,\n",
       " 62,\n",
       " 57,\n",
       " 81,\n",
       " 83,\n",
       " 79,\n",
       " 61,\n",
       " 50,\n",
       " 75,\n",
       " 68,\n",
       " 57,\n",
       " 68,\n",
       " 71,\n",
       " 75,\n",
       " 54,\n",
       " 57,\n",
       " 55,\n",
       " 62,\n",
       " 62,\n",
       " 65,\n",
       " 66,\n",
       " 51,\n",
       " 21,\n",
       " 74,\n",
       " 69,\n",
       " 73,\n",
       " 75,\n",
       " 65,\n",
       " 70,\n",
       " 78,\n",
       " 68,\n",
       " 81,\n",
       " 74,\n",
       " 37,\n",
       " 83,\n",
       " 78]"
      ]
     },
     "execution_count": 31,
     "metadata": {},
     "output_type": "execute_result"
    }
   ],
   "source": [
    "dati"
   ]
  },
  {
   "cell_type": "code",
   "execution_count": 32,
   "id": "124718ef",
   "metadata": {},
   "outputs": [],
   "source": [
    "df2=pd.DataFrame(data=dati,index=listaprovince)"
   ]
  },
  {
   "cell_type": "code",
   "execution_count": 34,
   "id": "2845e88a",
   "metadata": {},
   "outputs": [],
   "source": [
    "df2.to_csv(\"/Users/macssd/Desktop/Lab24/Ondatedicalore.csv\")"
   ]
  },
  {
   "cell_type": "markdown",
   "id": "d938ee02",
   "metadata": {},
   "source": [
    "# Soleggiamento"
   ]
  },
  {
   "cell_type": "code",
   "execution_count": 37,
   "id": "b9fe716e",
   "metadata": {},
   "outputs": [],
   "source": [
    "dati=[]\n",
    "#LOOP per ogni provincia\n",
    "for x in listaprovince:\n",
    "    df=pd.read_csv(f'/Users/macssd/Downloads/sole24h/{x}.csv', sep='\\;', encoding = 'unicode_escape', engine ='python')\n",
    "    #sostituiamo - con 0\n",
    "    df['ore_sole'] = df['ore_sole'].replace('-','0')\n",
    "    #converto in dato numerico\n",
    "    df['ore_sole'] = df['ore_sole'].astype(int)\n",
    "    #soleggiamento\n",
    "    tot=round(((df['ore_sole'].sum()/len(df))*4), 2)\n",
    "    dati.append(tot)\n",
    "    "
   ]
  },
  {
   "cell_type": "code",
   "execution_count": 38,
   "id": "1b1185e1",
   "metadata": {},
   "outputs": [
    {
     "data": {
      "text/plain": [
       "[7.37,\n",
       " 8.79,\n",
       " 8.3,\n",
       " 8.16,\n",
       " 7.28,\n",
       " 9.01,\n",
       " 8.0,\n",
       " 8.52,\n",
       " 8.0,\n",
       " 7.68,\n",
       " 8.25,\n",
       " 7.8,\n",
       " 7.9,\n",
       " 8.81,\n",
       " 8.02,\n",
       " 8.1,\n",
       " 8.57,\n",
       " 8.03,\n",
       " 8.25,\n",
       " 8.26,\n",
       " 7.45,\n",
       " 9.55,\n",
       " 7.74,\n",
       " 8.78,\n",
       " 8.14,\n",
       " 8.06,\n",
       " 7.74,\n",
       " 7.79,\n",
       " 8.8,\n",
       " 6.75,\n",
       " 8.41,\n",
       " 7.89,\n",
       " 8.6,\n",
       " 8.39,\n",
       " 7.58,\n",
       " 8.9,\n",
       " 8.61,\n",
       " 9.27,\n",
       " 8.84,\n",
       " 8.33,\n",
       " 8.65,\n",
       " 8.56,\n",
       " 7.98,\n",
       " 7.92,\n",
       " 7.95,\n",
       " 7.92,\n",
       " 7.85,\n",
       " 8.2,\n",
       " 7.94,\n",
       " 8.16,\n",
       " 7.82,\n",
       " 7.62,\n",
       " 8.06,\n",
       " 7.64,\n",
       " 8.48,\n",
       " 8.99,\n",
       " 8.24,\n",
       " 8.94,\n",
       " 8.61,\n",
       " 7.69,\n",
       " 8.61,\n",
       " 7.58,\n",
       " 7.86,\n",
       " 7.77,\n",
       " 7.53,\n",
       " 7.56,\n",
       " 7.42,\n",
       " 7.8,\n",
       " 7.22,\n",
       " 7.88,\n",
       " 7.68,\n",
       " 7.75,\n",
       " 7.59,\n",
       " 8.28,\n",
       " 8.07,\n",
       " 8.28,\n",
       " 8.06,\n",
       " 7.65,\n",
       " 7.89,\n",
       " 7.73,\n",
       " 7.82,\n",
       " 7.75,\n",
       " 8.81,\n",
       " 8.86,\n",
       " 8.37,\n",
       " 8.7,\n",
       " 8.73,\n",
       " 8.85,\n",
       " 8.53,\n",
       " 9.24,\n",
       " 8.74,\n",
       " 8.78,\n",
       " 8.97,\n",
       " 9.48,\n",
       " 9.16,\n",
       " 8.09,\n",
       " 7.93,\n",
       " 9.05,\n",
       " 8.75,\n",
       " 8.02,\n",
       " 8.36,\n",
       " 7.85,\n",
       " 7.86,\n",
       " 8.23,\n",
       " 7.93,\n",
       " 7.87,\n",
       " 8.32,\n",
       " 7.95,\n",
       " 7.81,\n",
       " 8.09,\n",
       " 7.85,\n",
       " 7.79]"
      ]
     },
     "execution_count": 38,
     "metadata": {},
     "output_type": "execute_result"
    }
   ],
   "source": [
    "dati"
   ]
  },
  {
   "cell_type": "code",
   "execution_count": 37,
   "id": "e205e34a",
   "metadata": {},
   "outputs": [],
   "source": [
    "df2=pd.DataFrame(data=dati,index=listaprovince)\n",
    "df2.to_csv(\"/Users/macssd/Desktop/Lab24/soleggiamento.csv\")"
   ]
  },
  {
   "cell_type": "code",
   "execution_count": 38,
   "id": "0813e87a",
   "metadata": {},
   "outputs": [
    {
     "data": {
      "text/html": [
       "<div>\n",
       "<style scoped>\n",
       "    .dataframe tbody tr th:only-of-type {\n",
       "        vertical-align: middle;\n",
       "    }\n",
       "\n",
       "    .dataframe tbody tr th {\n",
       "        vertical-align: top;\n",
       "    }\n",
       "\n",
       "    .dataframe thead th {\n",
       "        text-align: right;\n",
       "    }\n",
       "</style>\n",
       "<table border=\"1\" class=\"dataframe\">\n",
       "  <thead>\n",
       "    <tr style=\"text-align: right;\">\n",
       "      <th></th>\n",
       "      <th>0</th>\n",
       "    </tr>\n",
       "  </thead>\n",
       "  <tbody>\n",
       "    <tr>\n",
       "      <th>Verbania</th>\n",
       "      <td>7.37</td>\n",
       "    </tr>\n",
       "    <tr>\n",
       "      <th>Trani</th>\n",
       "      <td>8.79</td>\n",
       "    </tr>\n",
       "    <tr>\n",
       "      <th>Terni</th>\n",
       "      <td>8.30</td>\n",
       "    </tr>\n",
       "    <tr>\n",
       "      <th>Teramo</th>\n",
       "      <td>8.16</td>\n",
       "    </tr>\n",
       "    <tr>\n",
       "      <th>Sondrio</th>\n",
       "      <td>7.28</td>\n",
       "    </tr>\n",
       "    <tr>\n",
       "      <th>...</th>\n",
       "      <td>...</td>\n",
       "    </tr>\n",
       "    <tr>\n",
       "      <th>Rovigo</th>\n",
       "      <td>7.95</td>\n",
       "    </tr>\n",
       "    <tr>\n",
       "      <th>Treviso</th>\n",
       "      <td>7.81</td>\n",
       "    </tr>\n",
       "    <tr>\n",
       "      <th>Venezia</th>\n",
       "      <td>8.09</td>\n",
       "    </tr>\n",
       "    <tr>\n",
       "      <th>Verona</th>\n",
       "      <td>7.85</td>\n",
       "    </tr>\n",
       "    <tr>\n",
       "      <th>Vicenza</th>\n",
       "      <td>7.79</td>\n",
       "    </tr>\n",
       "  </tbody>\n",
       "</table>\n",
       "<p>112 rows × 1 columns</p>\n",
       "</div>"
      ],
      "text/plain": [
       "             0\n",
       "Verbania  7.37\n",
       "Trani     8.79\n",
       "Terni     8.30\n",
       "Teramo    8.16\n",
       "Sondrio   7.28\n",
       "...        ...\n",
       "Rovigo    7.95\n",
       "Treviso   7.81\n",
       "Venezia   8.09\n",
       "Verona    7.85\n",
       "Vicenza   7.79\n",
       "\n",
       "[112 rows x 1 columns]"
      ]
     },
     "execution_count": 38,
     "metadata": {},
     "output_type": "execute_result"
    }
   ],
   "source": [
    "df2"
   ]
  },
  {
   "cell_type": "markdown",
   "id": "8c00e598",
   "metadata": {},
   "source": [
    "# Indice di calore"
   ]
  },
  {
   "cell_type": "code",
   "execution_count": 39,
   "id": "4cc24ead",
   "metadata": {},
   "outputs": [],
   "source": [
    "df=pd.read_csv(\"/Users/macssd/Downloads/sole24h/Caltanissetta.csv\", sep='\\;', encoding = 'unicode_escape', engine ='python')"
   ]
  },
  {
   "cell_type": "code",
   "execution_count": 40,
   "id": "4ac623a2",
   "metadata": {},
   "outputs": [
    {
     "data": {
      "text/plain": [
       "Index(['data', 'ora', 'qn', 'zt', 'img', 'desc', 'desc_lng', 'mimg', 'mdesc',\n",
       "       'mdesc_lng', 'ore_sole', 'ventoint', 'ventodir', 'temperatura',\n",
       "       'temperatura_percepita', 'precipitazioni', 'accumulo', 'neve',\n",
       "       'probabilita_prec', 'ma', 'ao', 'hr', 'pr', 'uv', 'copertura',\n",
       "       'mcopertura', 'descrizione_uv', 'aggiornamento', 'dataestesa',\n",
       "       'dataestesa_small'],\n",
       "      dtype='object')"
      ]
     },
     "execution_count": 40,
     "metadata": {},
     "output_type": "execute_result"
    }
   ],
   "source": [
    "df.columns"
   ]
  },
  {
   "cell_type": "code",
   "execution_count": 41,
   "id": "ee02e8c8",
   "metadata": {},
   "outputs": [
    {
     "data": {
      "text/plain": [
       "data\n",
       "2011-01-01    11\n",
       "2011-01-02    11\n",
       "2011-01-03    12\n",
       "2011-01-04    10\n",
       "2011-01-05    10\n",
       "              ..\n",
       "2021-12-27    14\n",
       "2021-12-28    13\n",
       "2021-12-29    14\n",
       "2021-12-30    14\n",
       "2021-12-31    17\n",
       "Name: temperatura_percepita, Length: 4018, dtype: int64"
      ]
     },
     "execution_count": 41,
     "metadata": {},
     "output_type": "execute_result"
    }
   ],
   "source": [
    "df.groupby('data')['temperatura_percepita'].max()"
   ]
  },
  {
   "cell_type": "code",
   "execution_count": 42,
   "id": "262b8d31",
   "metadata": {},
   "outputs": [],
   "source": [
    "df2=df.groupby('data')['temperatura_percepita'].max()"
   ]
  },
  {
   "cell_type": "code",
   "execution_count": 45,
   "id": "f6b1b829",
   "metadata": {},
   "outputs": [],
   "source": [
    "tot=0\n",
    "for x in df2:\n",
    "    if x >= 30:\n",
    "        tot=tot+1\n",
    "    else:\n",
    "        tot=tot"
   ]
  },
  {
   "cell_type": "code",
   "execution_count": 47,
   "id": "4ce0e5a4",
   "metadata": {},
   "outputs": [
    {
     "data": {
      "text/plain": [
       "75.54545454545455"
      ]
     },
     "execution_count": 47,
     "metadata": {},
     "output_type": "execute_result"
    }
   ],
   "source": [
    "tot/11"
   ]
  },
  {
   "cell_type": "code",
   "execution_count": 50,
   "id": "bb5482a7",
   "metadata": {},
   "outputs": [],
   "source": [
    "#calcolo ogni provincia\n",
    "dati=[]\n",
    "for x in listaprovince:\n",
    "    df=pd.read_csv(f'/Users/macssd/Downloads/sole24h/{x}.csv', sep='\\;', encoding = 'unicode_escape', engine ='python')\n",
    "    #raggruppiamo per ogni giorno , scegliendo il valore massimo di temperatura percepita\n",
    "    df2=df.groupby('data')['temperatura_percepita'].max()\n",
    "    tot=0\n",
    "    #Loop per verificare quanti sono i giorni in 11 anni.\n",
    "    for x in df2:\n",
    "        if x >= 30:\n",
    "            tot=tot+1\n",
    "        else:\n",
    "            tot=tot\n",
    "    #media annua       \n",
    "    dati.append(tot/11)"
   ]
  },
  {
   "cell_type": "code",
   "execution_count": 51,
   "id": "d3cb2377",
   "metadata": {},
   "outputs": [
    {
     "data": {
      "text/plain": [
       "[56.0,\n",
       " 67.27272727272727,\n",
       " 100.18181818181819,\n",
       " 82.27272727272727,\n",
       " 63.36363636363637,\n",
       " 87.36363636363636,\n",
       " 70.0909090909091,\n",
       " 90.54545454545455,\n",
       " 68.0909090909091,\n",
       " 65.81818181818181,\n",
       " 86.9090909090909,\n",
       " 71.63636363636364,\n",
       " 56.36363636363637,\n",
       " 75.54545454545455,\n",
       " 74.9090909090909,\n",
       " 75.81818181818181,\n",
       " 106.45454545454545,\n",
       " 64.81818181818181,\n",
       " 74.0909090909091,\n",
       " 107.0909090909091,\n",
       " 44.27272727272727,\n",
       " 95.18181818181819,\n",
       " 67.81818181818181,\n",
       " 81.81818181818181,\n",
       " 66.27272727272727,\n",
       " 82.72727272727273,\n",
       " 66.36363636363636,\n",
       " 63.90909090909091,\n",
       " 62.81818181818182,\n",
       " 56.45454545454545,\n",
       " 62.45454545454545,\n",
       " 93.72727272727273,\n",
       " 48.18181818181818,\n",
       " 72.0,\n",
       " 35.45454545454545,\n",
       " 88.0909090909091,\n",
       " 104.9090909090909,\n",
       " 84.27272727272727,\n",
       " 104.54545454545455,\n",
       " 69.18181818181819,\n",
       " 78.36363636363636,\n",
       " 73.27272727272727,\n",
       " 83.45454545454545,\n",
       " 83.45454545454545,\n",
       " 83.27272727272727,\n",
       " 84.45454545454545,\n",
       " 78.63636363636364,\n",
       " 71.0,\n",
       " 81.72727272727273,\n",
       " 49.18181818181818,\n",
       " 69.54545454545455,\n",
       " 71.27272727272727,\n",
       " 41.09090909090909,\n",
       " 66.0909090909091,\n",
       " 71.45454545454545,\n",
       " 98.0,\n",
       " 80.54545454545455,\n",
       " 84.18181818181819,\n",
       " 72.45454545454545,\n",
       " 42.81818181818182,\n",
       " 49.72727272727273,\n",
       " 61.45454545454545,\n",
       " 78.45454545454545,\n",
       " 46.54545454545455,\n",
       " 61.72727272727273,\n",
       " 67.18181818181819,\n",
       " 59.90909090909091,\n",
       " 76.0,\n",
       " 57.54545454545455,\n",
       " 76.0909090909091,\n",
       " 69.27272727272727,\n",
       " 67.72727272727273,\n",
       " 39.72727272727273,\n",
       " 51.72727272727273,\n",
       " 75.9090909090909,\n",
       " 40.90909090909091,\n",
       " 40.36363636363637,\n",
       " 44.18181818181818,\n",
       " 46.63636363636363,\n",
       " 65.81818181818181,\n",
       " 59.72727272727273,\n",
       " 63.63636363636363,\n",
       " 62.45454545454545,\n",
       " 69.9090909090909,\n",
       " 82.9090909090909,\n",
       " 89.18181818181819,\n",
       " 92.54545454545455,\n",
       " 84.63636363636364,\n",
       " 82.18181818181819,\n",
       " 78.0,\n",
       " 26.454545454545453,\n",
       " 88.81818181818181,\n",
       " 97.54545454545455,\n",
       " 109.0,\n",
       " 92.0909090909091,\n",
       " 73.81818181818181,\n",
       " 85.36363636363636,\n",
       " 98.27272727272727,\n",
       " 48.18181818181818,\n",
       " 82.36363636363636,\n",
       " 73.27272727272727,\n",
       " 71.27272727272727,\n",
       " 76.36363636363636,\n",
       " 54.27272727272727,\n",
       " 61.0,\n",
       " 74.45454545454545,\n",
       " 42.90909090909091,\n",
       " 76.72727272727273,\n",
       " 73.36363636363636,\n",
       " 47.45454545454545,\n",
       " 73.18181818181819,\n",
       " 71.81818181818181]"
      ]
     },
     "execution_count": 51,
     "metadata": {},
     "output_type": "execute_result"
    }
   ],
   "source": [
    "dati"
   ]
  },
  {
   "cell_type": "code",
   "execution_count": 52,
   "id": "dbd4cf18",
   "metadata": {},
   "outputs": [],
   "source": [
    "df3=pd.DataFrame(data=dati,index=listaprovince)\n",
    "df3.to_csv(\"/Users/macssd/Desktop/Lab24/indicecalore.csv\")"
   ]
  },
  {
   "cell_type": "code",
   "execution_count": 53,
   "id": "8b4a321b",
   "metadata": {},
   "outputs": [
    {
     "data": {
      "text/html": [
       "<div>\n",
       "<style scoped>\n",
       "    .dataframe tbody tr th:only-of-type {\n",
       "        vertical-align: middle;\n",
       "    }\n",
       "\n",
       "    .dataframe tbody tr th {\n",
       "        vertical-align: top;\n",
       "    }\n",
       "\n",
       "    .dataframe thead th {\n",
       "        text-align: right;\n",
       "    }\n",
       "</style>\n",
       "<table border=\"1\" class=\"dataframe\">\n",
       "  <thead>\n",
       "    <tr style=\"text-align: right;\">\n",
       "      <th></th>\n",
       "      <th>0</th>\n",
       "    </tr>\n",
       "  </thead>\n",
       "  <tbody>\n",
       "    <tr>\n",
       "      <th>Verbania</th>\n",
       "      <td>56.000000</td>\n",
       "    </tr>\n",
       "    <tr>\n",
       "      <th>Trani</th>\n",
       "      <td>67.272727</td>\n",
       "    </tr>\n",
       "    <tr>\n",
       "      <th>Terni</th>\n",
       "      <td>100.181818</td>\n",
       "    </tr>\n",
       "    <tr>\n",
       "      <th>Teramo</th>\n",
       "      <td>82.272727</td>\n",
       "    </tr>\n",
       "    <tr>\n",
       "      <th>Sondrio</th>\n",
       "      <td>63.363636</td>\n",
       "    </tr>\n",
       "    <tr>\n",
       "      <th>...</th>\n",
       "      <td>...</td>\n",
       "    </tr>\n",
       "    <tr>\n",
       "      <th>Rovigo</th>\n",
       "      <td>76.727273</td>\n",
       "    </tr>\n",
       "    <tr>\n",
       "      <th>Treviso</th>\n",
       "      <td>73.363636</td>\n",
       "    </tr>\n",
       "    <tr>\n",
       "      <th>Venezia</th>\n",
       "      <td>47.454545</td>\n",
       "    </tr>\n",
       "    <tr>\n",
       "      <th>Verona</th>\n",
       "      <td>73.181818</td>\n",
       "    </tr>\n",
       "    <tr>\n",
       "      <th>Vicenza</th>\n",
       "      <td>71.818182</td>\n",
       "    </tr>\n",
       "  </tbody>\n",
       "</table>\n",
       "<p>112 rows × 1 columns</p>\n",
       "</div>"
      ],
      "text/plain": [
       "                   0\n",
       "Verbania   56.000000\n",
       "Trani      67.272727\n",
       "Terni     100.181818\n",
       "Teramo     82.272727\n",
       "Sondrio    63.363636\n",
       "...              ...\n",
       "Rovigo     76.727273\n",
       "Treviso    73.363636\n",
       "Venezia    47.454545\n",
       "Verona     73.181818\n",
       "Vicenza    71.818182\n",
       "\n",
       "[112 rows x 1 columns]"
      ]
     },
     "execution_count": 53,
     "metadata": {},
     "output_type": "execute_result"
    }
   ],
   "source": [
    "df3"
   ]
  },
  {
   "cell_type": "markdown",
   "id": "7e526d39",
   "metadata": {},
   "source": [
    "# Eventi estremi"
   ]
  },
  {
   "cell_type": "markdown",
   "id": "4df73b51",
   "metadata": {},
   "source": [
    "Giorni annui con accumulo di pioggia >40mm per fascia esaoriaria"
   ]
  },
  {
   "cell_type": "code",
   "execution_count": 54,
   "id": "0ed90af9",
   "metadata": {},
   "outputs": [],
   "source": [
    "df=pd.read_csv(\"/Users/macssd/Downloads/sole24h/Caltanissetta.csv\", sep='\\;', encoding = 'unicode_escape', engine ='python')"
   ]
  },
  {
   "cell_type": "code",
   "execution_count": 55,
   "id": "e6810c9a",
   "metadata": {},
   "outputs": [
    {
     "data": {
      "text/html": [
       "<div>\n",
       "<style scoped>\n",
       "    .dataframe tbody tr th:only-of-type {\n",
       "        vertical-align: middle;\n",
       "    }\n",
       "\n",
       "    .dataframe tbody tr th {\n",
       "        vertical-align: top;\n",
       "    }\n",
       "\n",
       "    .dataframe thead th {\n",
       "        text-align: right;\n",
       "    }\n",
       "</style>\n",
       "<table border=\"1\" class=\"dataframe\">\n",
       "  <thead>\n",
       "    <tr style=\"text-align: right;\">\n",
       "      <th></th>\n",
       "      <th>data</th>\n",
       "      <th>ora</th>\n",
       "      <th>qn</th>\n",
       "      <th>zt</th>\n",
       "      <th>img</th>\n",
       "      <th>desc</th>\n",
       "      <th>desc_lng</th>\n",
       "      <th>mimg</th>\n",
       "      <th>mdesc</th>\n",
       "      <th>mdesc_lng</th>\n",
       "      <th>...</th>\n",
       "      <th>ao</th>\n",
       "      <th>hr</th>\n",
       "      <th>pr</th>\n",
       "      <th>uv</th>\n",
       "      <th>copertura</th>\n",
       "      <th>mcopertura</th>\n",
       "      <th>descrizione_uv</th>\n",
       "      <th>aggiornamento</th>\n",
       "      <th>dataestesa</th>\n",
       "      <th>dataestesa_small</th>\n",
       "    </tr>\n",
       "  </thead>\n",
       "  <tbody>\n",
       "    <tr>\n",
       "      <th>0</th>\n",
       "      <td>2011-01-01</td>\n",
       "      <td>0</td>\n",
       "      <td>ND</td>\n",
       "      <td>ND</td>\n",
       "      <td>var_no_prec.gif</td>\n",
       "      <td>Nubi sparse e schiarite</td>\n",
       "      <td>NaN</td>\n",
       "      <td>NaN</td>\n",
       "      <td>NaN</td>\n",
       "      <td>NaN</td>\n",
       "      <td>...</td>\n",
       "      <td>NaN</td>\n",
       "      <td>95</td>\n",
       "      <td>1019.0</td>\n",
       "      <td>0</td>\n",
       "      <td>4.5</td>\n",
       "      <td>4.5</td>\n",
       "      <td>NaN</td>\n",
       "      <td>NaN</td>\n",
       "      <td>sab, 01 gennaio 2011</td>\n",
       "      <td>sab, 01</td>\n",
       "    </tr>\n",
       "    <tr>\n",
       "      <th>1</th>\n",
       "      <td>2011-01-01</td>\n",
       "      <td>6</td>\n",
       "      <td>1585 m</td>\n",
       "      <td>1835 m</td>\n",
       "      <td>var_no_prec.gif</td>\n",
       "      <td>Nubi sparse e schiarite</td>\n",
       "      <td>NaN</td>\n",
       "      <td>NaN</td>\n",
       "      <td>NaN</td>\n",
       "      <td>NaN</td>\n",
       "      <td>...</td>\n",
       "      <td>NaN</td>\n",
       "      <td>92</td>\n",
       "      <td>1017.0</td>\n",
       "      <td>0</td>\n",
       "      <td>4.5</td>\n",
       "      <td>4.5</td>\n",
       "      <td>NaN</td>\n",
       "      <td>NaN</td>\n",
       "      <td>sab, 01 gennaio 2011</td>\n",
       "      <td>sab, 01</td>\n",
       "    </tr>\n",
       "    <tr>\n",
       "      <th>2</th>\n",
       "      <td>2011-01-01</td>\n",
       "      <td>12</td>\n",
       "      <td>1900 m</td>\n",
       "      <td>2115 m</td>\n",
       "      <td>var_no_prec.gif</td>\n",
       "      <td>Nubi sparse e schiarite</td>\n",
       "      <td>NaN</td>\n",
       "      <td>NaN</td>\n",
       "      <td>NaN</td>\n",
       "      <td>NaN</td>\n",
       "      <td>...</td>\n",
       "      <td>NaN</td>\n",
       "      <td>57</td>\n",
       "      <td>1016.0</td>\n",
       "      <td>0</td>\n",
       "      <td>4.5</td>\n",
       "      <td>4.5</td>\n",
       "      <td>NaN</td>\n",
       "      <td>NaN</td>\n",
       "      <td>sab, 01 gennaio 2011</td>\n",
       "      <td>sab, 01</td>\n",
       "    </tr>\n",
       "    <tr>\n",
       "      <th>3</th>\n",
       "      <td>2011-01-01</td>\n",
       "      <td>18</td>\n",
       "      <td>1820 m</td>\n",
       "      <td>2020 m</td>\n",
       "      <td>var_no_prec.gif</td>\n",
       "      <td>Nubi sparse e schiarite</td>\n",
       "      <td>NaN</td>\n",
       "      <td>NaN</td>\n",
       "      <td>NaN</td>\n",
       "      <td>NaN</td>\n",
       "      <td>...</td>\n",
       "      <td>NaN</td>\n",
       "      <td>83</td>\n",
       "      <td>1014.0</td>\n",
       "      <td>0</td>\n",
       "      <td>4.5</td>\n",
       "      <td>4.5</td>\n",
       "      <td>NaN</td>\n",
       "      <td>NaN</td>\n",
       "      <td>sab, 01 gennaio 2011</td>\n",
       "      <td>sab, 01</td>\n",
       "    </tr>\n",
       "    <tr>\n",
       "      <th>4</th>\n",
       "      <td>2011-01-02</td>\n",
       "      <td>0</td>\n",
       "      <td>1585 m</td>\n",
       "      <td>1785 m</td>\n",
       "      <td>var_no_prec.gif</td>\n",
       "      <td>Nubi sparse e schiarite</td>\n",
       "      <td>NaN</td>\n",
       "      <td>NaN</td>\n",
       "      <td>NaN</td>\n",
       "      <td>NaN</td>\n",
       "      <td>...</td>\n",
       "      <td>NaN</td>\n",
       "      <td>100</td>\n",
       "      <td>1014.0</td>\n",
       "      <td>0</td>\n",
       "      <td>4.5</td>\n",
       "      <td>3.0</td>\n",
       "      <td>NaN</td>\n",
       "      <td>NaN</td>\n",
       "      <td>dom, 02 gennaio 2011</td>\n",
       "      <td>dom, 02</td>\n",
       "    </tr>\n",
       "    <tr>\n",
       "      <th>...</th>\n",
       "      <td>...</td>\n",
       "      <td>...</td>\n",
       "      <td>...</td>\n",
       "      <td>...</td>\n",
       "      <td>...</td>\n",
       "      <td>...</td>\n",
       "      <td>...</td>\n",
       "      <td>...</td>\n",
       "      <td>...</td>\n",
       "      <td>...</td>\n",
       "      <td>...</td>\n",
       "      <td>...</td>\n",
       "      <td>...</td>\n",
       "      <td>...</td>\n",
       "      <td>...</td>\n",
       "      <td>...</td>\n",
       "      <td>...</td>\n",
       "      <td>...</td>\n",
       "      <td>...</td>\n",
       "      <td>...</td>\n",
       "      <td>...</td>\n",
       "    </tr>\n",
       "    <tr>\n",
       "      <th>16067</th>\n",
       "      <td>2021-12-30</td>\n",
       "      <td>18</td>\n",
       "      <td>3100 m</td>\n",
       "      <td>3377 m</td>\n",
       "      <td>velato.gif</td>\n",
       "      <td>Sereno con innocue velature</td>\n",
       "      <td>NaN</td>\n",
       "      <td>NaN</td>\n",
       "      <td>NaN</td>\n",
       "      <td>NaN</td>\n",
       "      <td>...</td>\n",
       "      <td>NaN</td>\n",
       "      <td>86</td>\n",
       "      <td>1018.4</td>\n",
       "      <td>0</td>\n",
       "      <td>1.0</td>\n",
       "      <td>1.0</td>\n",
       "      <td>NaN</td>\n",
       "      <td>NaN</td>\n",
       "      <td>gio, 30 dicembre 2021</td>\n",
       "      <td>gio, 30</td>\n",
       "    </tr>\n",
       "    <tr>\n",
       "      <th>16068</th>\n",
       "      <td>2021-12-31</td>\n",
       "      <td>0</td>\n",
       "      <td>3000 m</td>\n",
       "      <td>3333 m</td>\n",
       "      <td>sereno.gif</td>\n",
       "      <td>Sereno</td>\n",
       "      <td>NaN</td>\n",
       "      <td>NaN</td>\n",
       "      <td>NaN</td>\n",
       "      <td>NaN</td>\n",
       "      <td>...</td>\n",
       "      <td>NaN</td>\n",
       "      <td>78</td>\n",
       "      <td>1021.5</td>\n",
       "      <td>0</td>\n",
       "      <td>0.0</td>\n",
       "      <td>0.0</td>\n",
       "      <td>NaN</td>\n",
       "      <td>NaN</td>\n",
       "      <td>ven, 31 dicembre 2021</td>\n",
       "      <td>ven, 31</td>\n",
       "    </tr>\n",
       "    <tr>\n",
       "      <th>16069</th>\n",
       "      <td>2021-12-31</td>\n",
       "      <td>6</td>\n",
       "      <td>3050 m</td>\n",
       "      <td>3425 m</td>\n",
       "      <td>sereno.gif</td>\n",
       "      <td>Sereno</td>\n",
       "      <td>NaN</td>\n",
       "      <td>NaN</td>\n",
       "      <td>NaN</td>\n",
       "      <td>NaN</td>\n",
       "      <td>...</td>\n",
       "      <td>NaN</td>\n",
       "      <td>75</td>\n",
       "      <td>1021.6</td>\n",
       "      <td>0</td>\n",
       "      <td>0.0</td>\n",
       "      <td>0.0</td>\n",
       "      <td>NaN</td>\n",
       "      <td>NaN</td>\n",
       "      <td>ven, 31 dicembre 2021</td>\n",
       "      <td>ven, 31</td>\n",
       "    </tr>\n",
       "    <tr>\n",
       "      <th>16070</th>\n",
       "      <td>2021-12-31</td>\n",
       "      <td>12</td>\n",
       "      <td>3350 m</td>\n",
       "      <td>3644 m</td>\n",
       "      <td>sereno.gif</td>\n",
       "      <td>Sereno</td>\n",
       "      <td>NaN</td>\n",
       "      <td>NaN</td>\n",
       "      <td>NaN</td>\n",
       "      <td>NaN</td>\n",
       "      <td>...</td>\n",
       "      <td>NaN</td>\n",
       "      <td>38</td>\n",
       "      <td>1025.0</td>\n",
       "      <td>0</td>\n",
       "      <td>0.0</td>\n",
       "      <td>0.0</td>\n",
       "      <td>NaN</td>\n",
       "      <td>NaN</td>\n",
       "      <td>ven, 31 dicembre 2021</td>\n",
       "      <td>ven, 31</td>\n",
       "    </tr>\n",
       "    <tr>\n",
       "      <th>16071</th>\n",
       "      <td>2021-12-31</td>\n",
       "      <td>18</td>\n",
       "      <td>3400 m</td>\n",
       "      <td>3707 m</td>\n",
       "      <td>sereno.gif</td>\n",
       "      <td>Sereno</td>\n",
       "      <td>NaN</td>\n",
       "      <td>NaN</td>\n",
       "      <td>NaN</td>\n",
       "      <td>NaN</td>\n",
       "      <td>...</td>\n",
       "      <td>NaN</td>\n",
       "      <td>79</td>\n",
       "      <td>1025.7</td>\n",
       "      <td>0</td>\n",
       "      <td>0.0</td>\n",
       "      <td>0.0</td>\n",
       "      <td>NaN</td>\n",
       "      <td>NaN</td>\n",
       "      <td>ven, 31 dicembre 2021</td>\n",
       "      <td>ven, 31</td>\n",
       "    </tr>\n",
       "  </tbody>\n",
       "</table>\n",
       "<p>16072 rows × 30 columns</p>\n",
       "</div>"
      ],
      "text/plain": [
       "             data  ora      qn      zt              img  \\\n",
       "0      2011-01-01    0      ND      ND  var_no_prec.gif   \n",
       "1      2011-01-01    6  1585 m  1835 m  var_no_prec.gif   \n",
       "2      2011-01-01   12  1900 m  2115 m  var_no_prec.gif   \n",
       "3      2011-01-01   18  1820 m  2020 m  var_no_prec.gif   \n",
       "4      2011-01-02    0  1585 m  1785 m  var_no_prec.gif   \n",
       "...           ...  ...     ...     ...              ...   \n",
       "16067  2021-12-30   18  3100 m  3377 m       velato.gif   \n",
       "16068  2021-12-31    0  3000 m  3333 m       sereno.gif   \n",
       "16069  2021-12-31    6  3050 m  3425 m       sereno.gif   \n",
       "16070  2021-12-31   12  3350 m  3644 m       sereno.gif   \n",
       "16071  2021-12-31   18  3400 m  3707 m       sereno.gif   \n",
       "\n",
       "                              desc  desc_lng  mimg  mdesc  mdesc_lng  ...  ao  \\\n",
       "0          Nubi sparse e schiarite       NaN   NaN    NaN        NaN  ... NaN   \n",
       "1          Nubi sparse e schiarite       NaN   NaN    NaN        NaN  ... NaN   \n",
       "2          Nubi sparse e schiarite       NaN   NaN    NaN        NaN  ... NaN   \n",
       "3          Nubi sparse e schiarite       NaN   NaN    NaN        NaN  ... NaN   \n",
       "4          Nubi sparse e schiarite       NaN   NaN    NaN        NaN  ... NaN   \n",
       "...                            ...       ...   ...    ...        ...  ...  ..   \n",
       "16067  Sereno con innocue velature       NaN   NaN    NaN        NaN  ... NaN   \n",
       "16068                       Sereno       NaN   NaN    NaN        NaN  ... NaN   \n",
       "16069                       Sereno       NaN   NaN    NaN        NaN  ... NaN   \n",
       "16070                       Sereno       NaN   NaN    NaN        NaN  ... NaN   \n",
       "16071                       Sereno       NaN   NaN    NaN        NaN  ... NaN   \n",
       "\n",
       "        hr      pr  uv  copertura  mcopertura  descrizione_uv  aggiornamento  \\\n",
       "0       95  1019.0   0        4.5         4.5             NaN            NaN   \n",
       "1       92  1017.0   0        4.5         4.5             NaN            NaN   \n",
       "2       57  1016.0   0        4.5         4.5             NaN            NaN   \n",
       "3       83  1014.0   0        4.5         4.5             NaN            NaN   \n",
       "4      100  1014.0   0        4.5         3.0             NaN            NaN   \n",
       "...    ...     ...  ..        ...         ...             ...            ...   \n",
       "16067   86  1018.4   0        1.0         1.0             NaN            NaN   \n",
       "16068   78  1021.5   0        0.0         0.0             NaN            NaN   \n",
       "16069   75  1021.6   0        0.0         0.0             NaN            NaN   \n",
       "16070   38  1025.0   0        0.0         0.0             NaN            NaN   \n",
       "16071   79  1025.7   0        0.0         0.0             NaN            NaN   \n",
       "\n",
       "                  dataestesa  dataestesa_small  \n",
       "0       sab, 01 gennaio 2011           sab, 01  \n",
       "1       sab, 01 gennaio 2011           sab, 01  \n",
       "2       sab, 01 gennaio 2011           sab, 01  \n",
       "3       sab, 01 gennaio 2011           sab, 01  \n",
       "4       dom, 02 gennaio 2011           dom, 02  \n",
       "...                      ...               ...  \n",
       "16067  gio, 30 dicembre 2021           gio, 30  \n",
       "16068  ven, 31 dicembre 2021           ven, 31  \n",
       "16069  ven, 31 dicembre 2021           ven, 31  \n",
       "16070  ven, 31 dicembre 2021           ven, 31  \n",
       "16071  ven, 31 dicembre 2021           ven, 31  \n",
       "\n",
       "[16072 rows x 30 columns]"
      ]
     },
     "execution_count": 55,
     "metadata": {},
     "output_type": "execute_result"
    }
   ],
   "source": [
    "df\n"
   ]
  },
  {
   "cell_type": "markdown",
   "id": "69b1798d",
   "metadata": {},
   "source": [
    "Mancano i dati dagli anni 2011 al 2019."
   ]
  },
  {
   "cell_type": "markdown",
   "id": "741306c1",
   "metadata": {},
   "source": [
    "# Brezza estiva (nodi medi giornalieri di vento nella stagione, media periodo 2011-2021)"
   ]
  },
  {
   "cell_type": "code",
   "execution_count": 103,
   "id": "8c16bcf3",
   "metadata": {},
   "outputs": [],
   "source": [
    "df=pd.read_csv(\"/Users/macssd/Downloads/sole24h/Caltanissetta.csv\", sep='\\;', encoding = 'unicode_escape', engine ='python')"
   ]
  },
  {
   "cell_type": "code",
   "execution_count": 57,
   "id": "561ca991",
   "metadata": {},
   "outputs": [],
   "source": [
    "df2=df[df['data'].str.contains(\"-06-|-07-|-08-\")==True]"
   ]
  },
  {
   "cell_type": "code",
   "execution_count": 58,
   "id": "67b2a4ec",
   "metadata": {},
   "outputs": [
    {
     "data": {
      "text/plain": [
       "8.938241106719367"
      ]
     },
     "execution_count": 58,
     "metadata": {},
     "output_type": "execute_result"
    }
   ],
   "source": [
    "df2.ventoint.sum()/len(df2)"
   ]
  },
  {
   "cell_type": "code",
   "execution_count": 59,
   "id": "5742888f",
   "metadata": {},
   "outputs": [],
   "source": [
    "dati=[]\n",
    "for x in listaprovince:\n",
    "    df=pd.read_csv(f'/Users/macssd/Downloads/sole24h/{x}.csv', sep='\\;', encoding = 'unicode_escape', engine ='python')\n",
    "    df2=df[df['data'].str.contains(\"-06-|-07-|-08-\")==True]\n",
    "    tot=df2.ventoint.sum()/len(df2)\n",
    "    dati.append(tot)"
   ]
  },
  {
   "cell_type": "code",
   "execution_count": 60,
   "id": "0d7be839",
   "metadata": {},
   "outputs": [
    {
     "data": {
      "text/plain": [
       "[3.6867588932806323,\n",
       " 7.406867588932807,\n",
       " 4.455039525691699,\n",
       " 4.66798418972332,\n",
       " 2.5963438735177866,\n",
       " 8.349061264822135,\n",
       " 4.778903162055336,\n",
       " 7.875,\n",
       " 5.948616600790514,\n",
       " 4.601037549407114,\n",
       " 5.066452569169961,\n",
       " 4.9814723320158105,\n",
       " 4.135622529644269,\n",
       " 8.938241106719367,\n",
       " 5.191699604743083,\n",
       " 6.100543478260869,\n",
       " 6.741847826086956,\n",
       " 5.256669960474309,\n",
       " 5.10943675889328,\n",
       " 4.0896739130434785,\n",
       " 3.8483201581027666,\n",
       " 6.699357707509882,\n",
       " 4.471096837944664,\n",
       " 7.403409090909091,\n",
       " 3.8925395256916997,\n",
       " 5.284090909090909,\n",
       " 3.661067193675889,\n",
       " 4.3853754940711465,\n",
       " 7.460968379446641,\n",
       " 3.4666501976284585,\n",
       " 5.3604249011857705,\n",
       " 4.731966403162056,\n",
       " 6.282361660079052,\n",
       " 5.828804347826087,\n",
       " 5.982954545454546,\n",
       " 8.176136363636363,\n",
       " 4.365859683794467,\n",
       " 7.142786561264822,\n",
       " 8.016798418972332,\n",
       " 7.366847826086956,\n",
       " 5.429594861660079,\n",
       " 4.469367588932807,\n",
       " 5.206768774703558,\n",
       " 4.9061264822134385,\n",
       " 4.855237154150197,\n",
       " 4.698863636363637,\n",
       " 4.10449604743083,\n",
       " 6.39155138339921,\n",
       " 3.9535573122529644,\n",
       " 5.35251976284585,\n",
       " 4.908843873517786,\n",
       " 3.962697628458498,\n",
       " 7.881916996047431,\n",
       " 3.9792490118577075,\n",
       " 3.403903162055336,\n",
       " 6.09856719367589,\n",
       " 4.184782608695652,\n",
       " 5.7396245059288535,\n",
       " 5.627717391304348,\n",
       " 5.784337944664031,\n",
       " 5.209239130434782,\n",
       " 4.236166007905139,\n",
       " 5.171442687747035,\n",
       " 6.334733201581027,\n",
       " 4.209239130434782,\n",
       " 3.692193675889328,\n",
       " 3.462203557312253,\n",
       " 4.645256916996048,\n",
       " 3.1511857707509883,\n",
       " 4.234189723320158,\n",
       " 4.0938735177865615,\n",
       " 4.543478260869565,\n",
       " 3.8757411067193677,\n",
       " 7.319664031620554,\n",
       " 6.194664031620554,\n",
       " 7.940464426877471,\n",
       " 10.489624505928854,\n",
       " 7.123764822134388,\n",
       " 4.6146245059288535,\n",
       " 5.104249011857707,\n",
       " 2.9839426877470356,\n",
       " 4.579298418972332,\n",
       " 7.221590909090909,\n",
       " 8.609930830039525,\n",
       " 6.414278656126482,\n",
       " 6.845108695652174,\n",
       " 6.8144762845849804,\n",
       " 7.061264822134388,\n",
       " 6.9856719367588935,\n",
       " 4.856719367588933,\n",
       " 9.047183794466402,\n",
       " 6.500494071146245,\n",
       " 5.820899209486166,\n",
       " 6.3688241106719365,\n",
       " 7.643033596837944,\n",
       " 4.793478260869565,\n",
       " 4.636363636363637,\n",
       " 6.254693675889328,\n",
       " 6.5481719367588935,\n",
       " 4.273221343873518,\n",
       " 4.803359683794467,\n",
       " 4.568922924901186,\n",
       " 4.677865612648222,\n",
       " 5.12005928853755,\n",
       " 2.350296442687747,\n",
       " 2.3512845849802373,\n",
       " 10.282855731225297,\n",
       " 5.230731225296442,\n",
       " 4.909584980237154,\n",
       " 5.905879446640316,\n",
       " 4.353754940711463,\n",
       " 3.385869565217391]"
      ]
     },
     "execution_count": 60,
     "metadata": {},
     "output_type": "execute_result"
    }
   ],
   "source": [
    "dati"
   ]
  },
  {
   "cell_type": "code",
   "execution_count": 61,
   "id": "d0d1535a",
   "metadata": {},
   "outputs": [],
   "source": [
    "df3=pd.DataFrame(data=dati,index=listaprovince)\n",
    "df3.to_csv(\"/Users/macssd/Desktop/Lab24/brezzaestiva.csv\")"
   ]
  },
  {
   "cell_type": "markdown",
   "id": "468783df",
   "metadata": {},
   "source": [
    "# Umidità relativa (giorni annui fuori dal comfort climatico, >70% o <30%, media periodo 2011-2021)"
   ]
  },
  {
   "cell_type": "code",
   "execution_count": 62,
   "id": "0261f966",
   "metadata": {},
   "outputs": [],
   "source": [
    "df=pd.read_csv(\"/Users/macssd/Downloads/sole24h/Caltanissetta.csv\", sep='\\;', encoding = 'unicode_escape', engine ='python')"
   ]
  },
  {
   "cell_type": "code",
   "execution_count": 63,
   "id": "fddaa768",
   "metadata": {},
   "outputs": [
    {
     "data": {
      "text/plain": [
       "Index(['data', 'ora', 'qn', 'zt', 'img', 'desc', 'desc_lng', 'mimg', 'mdesc',\n",
       "       'mdesc_lng', 'ore_sole', 'ventoint', 'ventodir', 'temperatura',\n",
       "       'temperatura_percepita', 'precipitazioni', 'accumulo', 'neve',\n",
       "       'probabilita_prec', 'ma', 'ao', 'hr', 'pr', 'uv', 'copertura',\n",
       "       'mcopertura', 'descrizione_uv', 'aggiornamento', 'dataestesa',\n",
       "       'dataestesa_small'],\n",
       "      dtype='object')"
      ]
     },
     "execution_count": 63,
     "metadata": {},
     "output_type": "execute_result"
    }
   ],
   "source": [
    "df.columns"
   ]
  },
  {
   "cell_type": "code",
   "execution_count": 86,
   "id": "3905e409",
   "metadata": {},
   "outputs": [],
   "source": [
    "df2=df.groupby('data')['hr'].mean()"
   ]
  },
  {
   "cell_type": "code",
   "execution_count": 87,
   "id": "379e9c04",
   "metadata": {},
   "outputs": [
    {
     "data": {
      "text/plain": [
       "data\n",
       "2011-01-01    81.75\n",
       "2011-01-02    83.25\n",
       "2011-01-03    82.75\n",
       "2011-01-04    85.25\n",
       "2011-01-05    83.00\n",
       "              ...  \n",
       "2021-12-27    95.50\n",
       "2021-12-28    87.75\n",
       "2021-12-29    87.50\n",
       "2021-12-30    85.25\n",
       "2021-12-31    67.50\n",
       "Name: hr, Length: 4018, dtype: float64"
      ]
     },
     "execution_count": 87,
     "metadata": {},
     "output_type": "execute_result"
    }
   ],
   "source": [
    "df2"
   ]
  },
  {
   "cell_type": "code",
   "execution_count": 77,
   "id": "1fa442db",
   "metadata": {},
   "outputs": [],
   "source": [
    "df3=df.groupby('data')['hr'].min()"
   ]
  },
  {
   "cell_type": "code",
   "execution_count": 78,
   "id": "6144c324",
   "metadata": {},
   "outputs": [
    {
     "data": {
      "text/plain": [
       "data\n",
       "2011-01-01    57\n",
       "2011-01-02    53\n",
       "2011-01-03    55\n",
       "2011-01-04    68\n",
       "2011-01-05    59\n",
       "              ..\n",
       "2021-12-27    91\n",
       "2021-12-28    68\n",
       "2021-12-29    79\n",
       "2021-12-30    77\n",
       "2021-12-31    38\n",
       "Name: hr, Length: 4018, dtype: int64"
      ]
     },
     "execution_count": 78,
     "metadata": {},
     "output_type": "execute_result"
    }
   ],
   "source": [
    "df3"
   ]
  },
  {
   "cell_type": "code",
   "execution_count": 90,
   "id": "5cdab38d",
   "metadata": {},
   "outputs": [],
   "source": [
    "tot=0\n",
    "for x in df2:\n",
    "    if x >= 70 or x<= 30:\n",
    "        tot=tot+1\n",
    "    else:\n",
    "        tot=tot\n"
   ]
  },
  {
   "cell_type": "code",
   "execution_count": 92,
   "id": "4a1a888d",
   "metadata": {},
   "outputs": [
    {
     "data": {
      "text/plain": [
       "204.36363636363637"
      ]
     },
     "execution_count": 92,
     "metadata": {},
     "output_type": "execute_result"
    }
   ],
   "source": [
    "tot/11"
   ]
  },
  {
   "cell_type": "code",
   "execution_count": 89,
   "id": "0303b75a",
   "metadata": {},
   "outputs": [
    {
     "data": {
      "text/plain": [
       "dtype('float64')"
      ]
     },
     "execution_count": 89,
     "metadata": {},
     "output_type": "execute_result"
    }
   ],
   "source": [
    "df2.dtypes"
   ]
  },
  {
   "cell_type": "code",
   "execution_count": 95,
   "id": "1f7a7fcb",
   "metadata": {},
   "outputs": [],
   "source": [
    "dati=[]\n",
    "for x in listaprovince:\n",
    "    df=pd.read_csv(f'/Users/macssd/Downloads/sole24h/{x}.csv', sep='\\;', encoding = 'unicode_escape', engine ='python')\n",
    "    #,media giornaliera dell'umidità\n",
    "    df2=df.groupby('data')['hr'].mean()\n",
    "    tot=0\n",
    "    for x in df2:\n",
    "        if x >= 70 or x<= 30:\n",
    "            tot=tot+1\n",
    "        else:\n",
    "            tot=tot\n",
    "    dati.append(tot/11)\n",
    "    "
   ]
  },
  {
   "cell_type": "code",
   "execution_count": 96,
   "id": "c83e5fc9",
   "metadata": {},
   "outputs": [
    {
     "data": {
      "text/plain": [
       "[177.27272727272728,\n",
       " 148.0,\n",
       " 193.0909090909091,\n",
       " 175.45454545454547,\n",
       " 195.36363636363637,\n",
       " 204.9090909090909,\n",
       " 164.63636363636363,\n",
       " 216.45454545454547,\n",
       " 193.9090909090909,\n",
       " 192.45454545454547,\n",
       " 197.63636363636363,\n",
       " 193.0,\n",
       " 226.1818181818182,\n",
       " 204.36363636363637,\n",
       " 166.1818181818182,\n",
       " 185.63636363636363,\n",
       " 210.0909090909091,\n",
       " 170.54545454545453,\n",
       " 199.1818181818182,\n",
       " 202.72727272727272,\n",
       " 177.54545454545453,\n",
       " 198.54545454545453,\n",
       " 200.0909090909091,\n",
       " 142.45454545454547,\n",
       " 151.54545454545453,\n",
       " 191.45454545454547,\n",
       " 211.9090909090909,\n",
       " 239.27272727272728,\n",
       " 143.9090909090909,\n",
       " 240.0909090909091,\n",
       " 161.0909090909091,\n",
       " 221.45454545454547,\n",
       " 172.63636363636363,\n",
       " 170.45454545454547,\n",
       " 215.45454545454547,\n",
       " 169.54545454545453,\n",
       " 174.54545454545453,\n",
       " 143.54545454545453,\n",
       " 189.8181818181818,\n",
       " 260.09090909090907,\n",
       " 203.36363636363637,\n",
       " 214.54545454545453,\n",
       " 163.72727272727272,\n",
       " 160.45454545454547,\n",
       " 166.8181818181818,\n",
       " 174.0909090909091,\n",
       " 185.0909090909091,\n",
       " 165.8181818181818,\n",
       " 160.0,\n",
       " 177.72727272727272,\n",
       " 140.1818181818182,\n",
       " 139.27272727272728,\n",
       " 136.45454545454547,\n",
       " 137.0909090909091,\n",
       " 190.36363636363637,\n",
       " 192.8181818181818,\n",
       " 203.0,\n",
       " 175.36363636363637,\n",
       " 207.27272727272728,\n",
       " 215.72727272727272,\n",
       " 186.27272727272728,\n",
       " 226.45454545454547,\n",
       " 207.8181818181818,\n",
       " 208.54545454545453,\n",
       " 192.1818181818182,\n",
       " 171.0909090909091,\n",
       " 201.0909090909091,\n",
       " 170.72727272727272,\n",
       " 210.63636363636363,\n",
       " 164.9090909090909,\n",
       " 189.1818181818182,\n",
       " 184.63636363636363,\n",
       " 181.63636363636363,\n",
       " 181.63636363636363,\n",
       " 180.63636363636363,\n",
       " 178.63636363636363,\n",
       " 201.0,\n",
       " 231.1818181818182,\n",
       " 175.72727272727272,\n",
       " 194.45454545454547,\n",
       " 187.36363636363637,\n",
       " 205.1818181818182,\n",
       " 151.8181818181818,\n",
       " 196.72727272727272,\n",
       " 141.1818181818182,\n",
       " 179.63636363636363,\n",
       " 163.72727272727272,\n",
       " 181.63636363636363,\n",
       " 205.45454545454547,\n",
       " 100.63636363636364,\n",
       " 201.63636363636363,\n",
       " 239.8181818181818,\n",
       " 204.1818181818182,\n",
       " 173.1818181818182,\n",
       " 236.45454545454547,\n",
       " 190.45454545454547,\n",
       " 182.1818181818182,\n",
       " 168.1818181818182,\n",
       " 204.54545454545453,\n",
       " 192.0,\n",
       " 196.9090909090909,\n",
       " 183.72727272727272,\n",
       " 182.63636363636363,\n",
       " 190.8181818181818,\n",
       " 128.0909090909091,\n",
       " 165.45454545454547,\n",
       " 201.45454545454547,\n",
       " 167.72727272727272,\n",
       " 158.0909090909091,\n",
       " 168.9090909090909,\n",
       " 150.36363636363637,\n",
       " 165.0909090909091]"
      ]
     },
     "execution_count": 96,
     "metadata": {},
     "output_type": "execute_result"
    }
   ],
   "source": [
    "dati"
   ]
  },
  {
   "cell_type": "code",
   "execution_count": 97,
   "id": "864b8628",
   "metadata": {},
   "outputs": [],
   "source": [
    "df3=pd.DataFrame(data=dati,index=listaprovince)\n",
    "df3.to_csv(\"/Users/macssd/Desktop/Lab24/umiditàrelativa.csv\")"
   ]
  },
  {
   "cell_type": "markdown",
   "id": "85977509",
   "metadata": {},
   "source": [
    "# Raffiche di vento\n"
   ]
  },
  {
   "cell_type": "code",
   "execution_count": 99,
   "id": "07179031",
   "metadata": {},
   "outputs": [
    {
     "data": {
      "text/plain": [
       "data\n",
       "2011-01-01    5.0\n",
       "2011-01-02    6.0\n",
       "2011-01-03    7.0\n",
       "2011-01-04    5.0\n",
       "2011-01-05    4.0\n",
       "             ... \n",
       "2021-12-27    3.0\n",
       "2021-12-28    4.0\n",
       "2021-12-29    2.0\n",
       "2021-12-30    3.0\n",
       "2021-12-31    3.0\n",
       "Name: ventoint, Length: 4018, dtype: float64"
      ]
     },
     "execution_count": 99,
     "metadata": {},
     "output_type": "execute_result"
    }
   ],
   "source": [
    "df.groupby('data')['ventoint'].max()"
   ]
  },
  {
   "cell_type": "code",
   "execution_count": 104,
   "id": "f3c50032",
   "metadata": {},
   "outputs": [],
   "source": [
    "df2=df.groupby('data')['ventoint'].max()"
   ]
  },
  {
   "cell_type": "code",
   "execution_count": 105,
   "id": "8ef083fb",
   "metadata": {},
   "outputs": [],
   "source": [
    "tot=0\n",
    "for x in df2: \n",
    "    if x>25:\n",
    "        tot=tot+1"
   ]
  },
  {
   "cell_type": "code",
   "execution_count": 107,
   "id": "83dc5364",
   "metadata": {},
   "outputs": [
    {
     "data": {
      "text/plain": [
       "21.545454545454547"
      ]
     },
     "execution_count": 107,
     "metadata": {},
     "output_type": "execute_result"
    }
   ],
   "source": [
    "tot/11"
   ]
  },
  {
   "cell_type": "code",
   "execution_count": null,
   "id": "5a341586",
   "metadata": {},
   "outputs": [],
   "source": []
  },
  {
   "cell_type": "code",
   "execution_count": null,
   "id": "66a12b5a",
   "metadata": {},
   "outputs": [],
   "source": [
    "dati=[]\n",
    "for x in listaprovince:\n",
    "    df=pd.read_csv(f'/Users/macssd/Downloads/sole24h/{x}.csv', sep='\\;', encoding = 'unicode_escape', engine ='python')\n",
    "    df2=df.groupby('data')['ventoint'].max()\n",
    "    tot=0\n",
    "    for x in df2: \n",
    "        if x>25:\n",
    "            tot=tot+1\n",
    "        else:\n",
    "            tot=tot\n",
    "    dati.append(tot/11)"
   ]
  },
  {
   "cell_type": "markdown",
   "id": "62ad2505",
   "metadata": {},
   "source": [
    "# Nebbia (giorni annui con nebbia in almeno una fascia esaoraria, media periodo 2011-2021)"
   ]
  },
  {
   "cell_type": "code",
   "execution_count": 16,
   "id": "6ac5b770",
   "metadata": {},
   "outputs": [],
   "source": [
    "df3=df.groupby('data')['img'].value_counts().unstack().fillna(0)"
   ]
  },
  {
   "cell_type": "code",
   "execution_count": 28,
   "id": "d79e638b",
   "metadata": {},
   "outputs": [
    {
     "name": "stdout",
     "output_type": "stream",
     "text": [
      "yes\n"
     ]
    }
   ],
   "source": [
    "if 'nebbia.gif' and 'nebbia_banchi.gif' in df3.columns:\n",
    "    print('yes')"
   ]
  },
  {
   "cell_type": "code",
   "execution_count": 18,
   "id": "e432c539",
   "metadata": {},
   "outputs": [],
   "source": [
    "df4=df3[['nebbia.gif']]"
   ]
  },
  {
   "cell_type": "code",
   "execution_count": 19,
   "id": "f9efce25",
   "metadata": {},
   "outputs": [
    {
     "data": {
      "text/html": [
       "<div>\n",
       "<style scoped>\n",
       "    .dataframe tbody tr th:only-of-type {\n",
       "        vertical-align: middle;\n",
       "    }\n",
       "\n",
       "    .dataframe tbody tr th {\n",
       "        vertical-align: top;\n",
       "    }\n",
       "\n",
       "    .dataframe thead th {\n",
       "        text-align: right;\n",
       "    }\n",
       "</style>\n",
       "<table border=\"1\" class=\"dataframe\">\n",
       "  <thead>\n",
       "    <tr style=\"text-align: right;\">\n",
       "      <th>img</th>\n",
       "      <th>nebbia.gif</th>\n",
       "    </tr>\n",
       "    <tr>\n",
       "      <th>data</th>\n",
       "      <th></th>\n",
       "    </tr>\n",
       "  </thead>\n",
       "  <tbody>\n",
       "    <tr>\n",
       "      <th>2011-01-01</th>\n",
       "      <td>0.0</td>\n",
       "    </tr>\n",
       "    <tr>\n",
       "      <th>2011-01-02</th>\n",
       "      <td>0.0</td>\n",
       "    </tr>\n",
       "    <tr>\n",
       "      <th>2011-01-03</th>\n",
       "      <td>0.0</td>\n",
       "    </tr>\n",
       "    <tr>\n",
       "      <th>2011-01-04</th>\n",
       "      <td>0.0</td>\n",
       "    </tr>\n",
       "    <tr>\n",
       "      <th>2011-01-05</th>\n",
       "      <td>0.0</td>\n",
       "    </tr>\n",
       "    <tr>\n",
       "      <th>...</th>\n",
       "      <td>...</td>\n",
       "    </tr>\n",
       "    <tr>\n",
       "      <th>2021-12-27</th>\n",
       "      <td>0.0</td>\n",
       "    </tr>\n",
       "    <tr>\n",
       "      <th>2021-12-28</th>\n",
       "      <td>0.0</td>\n",
       "    </tr>\n",
       "    <tr>\n",
       "      <th>2021-12-29</th>\n",
       "      <td>0.0</td>\n",
       "    </tr>\n",
       "    <tr>\n",
       "      <th>2021-12-30</th>\n",
       "      <td>0.0</td>\n",
       "    </tr>\n",
       "    <tr>\n",
       "      <th>2021-12-31</th>\n",
       "      <td>0.0</td>\n",
       "    </tr>\n",
       "  </tbody>\n",
       "</table>\n",
       "<p>4018 rows × 1 columns</p>\n",
       "</div>"
      ],
      "text/plain": [
       "img         nebbia.gif\n",
       "data                  \n",
       "2011-01-01         0.0\n",
       "2011-01-02         0.0\n",
       "2011-01-03         0.0\n",
       "2011-01-04         0.0\n",
       "2011-01-05         0.0\n",
       "...                ...\n",
       "2021-12-27         0.0\n",
       "2021-12-28         0.0\n",
       "2021-12-29         0.0\n",
       "2021-12-30         0.0\n",
       "2021-12-31         0.0\n",
       "\n",
       "[4018 rows x 1 columns]"
      ]
     },
     "execution_count": 19,
     "metadata": {},
     "output_type": "execute_result"
    }
   ],
   "source": [
    "df4"
   ]
  },
  {
   "cell_type": "code",
   "execution_count": 20,
   "id": "de4fa132",
   "metadata": {},
   "outputs": [],
   "source": [
    "nebbia=0\n",
    "for x in df4['nebbia.gif']:\n",
    "    if x>0:\n",
    "        nebbia=nebbia+1\n",
    "\n",
    "        "
   ]
  },
  {
   "cell_type": "code",
   "execution_count": 21,
   "id": "5348443f",
   "metadata": {},
   "outputs": [
    {
     "data": {
      "text/plain": [
       "3"
      ]
     },
     "execution_count": 21,
     "metadata": {},
     "output_type": "execute_result"
    }
   ],
   "source": [
    "nebbia"
   ]
  },
  {
   "cell_type": "code",
   "execution_count": 11,
   "id": "a8ac92ac",
   "metadata": {},
   "outputs": [
    {
     "name": "stdout",
     "output_type": "stream",
     "text": [
      "nebbia.gif\n",
      "nebbia_banchi.gif\n"
     ]
    }
   ],
   "source": [
    "for x in df4: \n",
    "    print(x)"
   ]
  },
  {
   "cell_type": "code",
   "execution_count": 35,
   "id": "105841ef",
   "metadata": {},
   "outputs": [],
   "source": [
    "dati=[]\n",
    "for x in listaprovince:\n",
    "    df=pd.read_csv(f'/Users/macssd/Downloads/sole24h/{x}.csv', sep='\\;', encoding = 'unicode_escape', engine ='python')\n",
    "    df2=df.groupby('data')['img'].value_counts().unstack().fillna(0)\n",
    "    nebbia=0\n",
    "    if 'nebbia.gif' in df2.columns:\n",
    "        if 'nebbia_banchi.gif' in df2.columns:\n",
    "            df2=df2[['nebbia.gif','nebbia_banchi.gif']]\n",
    "            for x in df2['nebbia.gif']:\n",
    "                if x>0:\n",
    "                    nebbia=nebbia+1\n",
    "            for y in df2['nebbia_banchi.gif']:\n",
    "                if y>0:\n",
    "                    nebbia=nebbia+1\n",
    "    elif  'nebbia_banchi.gif'in df2.columns:\n",
    "        df2=df2[['nebbia_banchi.gif']]\n",
    "        for y in df2['nebbia_banchi.gif']:\n",
    "            if y>0:\n",
    "                nebbia=nebbia+1\n",
    "    else:\n",
    "        nebbia=0\n",
    "    \n",
    "    dati.append(nebbia/11)"
   ]
  },
  {
   "cell_type": "code",
   "execution_count": 36,
   "id": "5df8dfb8",
   "metadata": {},
   "outputs": [],
   "source": [
    "df3=pd.DataFrame(data=dati,index=listaprovince)\n",
    "df3.to_csv(\"/Users/macssd/Desktop/Lab24/nebbia.csv\")"
   ]
  },
  {
   "cell_type": "markdown",
   "id": "9f632fdf",
   "metadata": {},
   "source": [
    "# Giorni freddi (giorni annui con temperatura massima percepita < 3°C, media periodo 2011-2021)"
   ]
  },
  {
   "cell_type": "code",
   "execution_count": 13,
   "id": "f939c528",
   "metadata": {},
   "outputs": [],
   "source": [
    "dati=[]\n",
    "for x in listaprovince:\n",
    "    df=pd.read_csv(f'/Users/macssd/Downloads/sole24h/{x}.csv', sep='\\;', encoding = 'unicode_escape', engine ='python')\n",
    "    df2=df.groupby('data')['temperatura_percepita'].min()\n",
    "    tot=0\n",
    "    for x in df2:\n",
    "        if x < 3:\n",
    "            tot=tot+1\n",
    "        else:\n",
    "            tot=tot\n",
    "            \n",
    "    dati.append(tot/11)"
   ]
  },
  {
   "cell_type": "code",
   "execution_count": 14,
   "id": "0f234d8f",
   "metadata": {},
   "outputs": [],
   "source": [
    "df3=pd.DataFrame(data=dati,index=listaprovince)\n",
    "df3.to_csv(\"/Users/macssd/Desktop/Lab24/giornifreddi.csv\")"
   ]
  },
  {
   "cell_type": "code",
   "execution_count": null,
   "id": "4552dfab",
   "metadata": {},
   "outputs": [],
   "source": []
  }
 ],
 "metadata": {
  "kernelspec": {
   "display_name": "Python 3 (ipykernel)",
   "language": "python",
   "name": "python3"
  },
  "language_info": {
   "codemirror_mode": {
    "name": "ipython",
    "version": 3
   },
   "file_extension": ".py",
   "mimetype": "text/x-python",
   "name": "python",
   "nbconvert_exporter": "python",
   "pygments_lexer": "ipython3",
   "version": "3.9.7"
  }
 },
 "nbformat": 4,
 "nbformat_minor": 5
}
